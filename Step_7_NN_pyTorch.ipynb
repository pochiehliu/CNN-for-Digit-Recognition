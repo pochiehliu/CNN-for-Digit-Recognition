{
  "nbformat": 4,
  "nbformat_minor": 0,
  "metadata": {
    "colab": {
      "name": "Step 7. NN pyTorch",
      "version": "0.3.2",
      "provenance": [],
      "collapsed_sections": []
    },
    "kernelspec": {
      "name": "python3",
      "display_name": "Python 3"
    },
    "accelerator": "GPU"
  },
  "cells": [
    {
      "cell_type": "code",
      "metadata": {
        "id": "aMCxFdAYWrS4",
        "colab_type": "code",
        "colab": {
          "base_uri": "https://localhost:8080/",
          "height": 238
        },
        "outputId": "db711840-855b-4e1d-e143-8cad84a57640"
      },
      "source": [
        "# install pytorch on Google Colab\n",
        "!pip install torch torchvision\n",
        "!pip install torchvision"
      ],
      "execution_count": 1,
      "outputs": [
        {
          "output_type": "stream",
          "text": [
            "Requirement already satisfied: torch in /usr/local/lib/python3.6/dist-packages (1.1.0)\n",
            "Requirement already satisfied: torchvision in /usr/local/lib/python3.6/dist-packages (0.3.0)\n",
            "Requirement already satisfied: numpy in /usr/local/lib/python3.6/dist-packages (from torch) (1.16.4)\n",
            "Requirement already satisfied: six in /usr/local/lib/python3.6/dist-packages (from torchvision) (1.12.0)\n",
            "Requirement already satisfied: pillow>=4.1.1 in /usr/local/lib/python3.6/dist-packages (from torchvision) (4.3.0)\n",
            "Requirement already satisfied: olefile in /usr/local/lib/python3.6/dist-packages (from pillow>=4.1.1->torchvision) (0.46)\n",
            "Requirement already satisfied: torchvision in /usr/local/lib/python3.6/dist-packages (0.3.0)\n",
            "Requirement already satisfied: numpy in /usr/local/lib/python3.6/dist-packages (from torchvision) (1.16.4)\n",
            "Requirement already satisfied: torch>=1.1.0 in /usr/local/lib/python3.6/dist-packages (from torchvision) (1.1.0)\n",
            "Requirement already satisfied: pillow>=4.1.1 in /usr/local/lib/python3.6/dist-packages (from torchvision) (4.3.0)\n",
            "Requirement already satisfied: six in /usr/local/lib/python3.6/dist-packages (from torchvision) (1.12.0)\n",
            "Requirement already satisfied: olefile in /usr/local/lib/python3.6/dist-packages (from pillow>=4.1.1->torchvision) (0.46)\n"
          ],
          "name": "stdout"
        }
      ]
    },
    {
      "cell_type": "code",
      "metadata": {
        "id": "XgguPibbcPU7",
        "colab_type": "code",
        "colab": {}
      },
      "source": [
        "from tqdm import tqdm"
      ],
      "execution_count": 0,
      "outputs": []
    },
    {
      "cell_type": "code",
      "metadata": {
        "id": "AMNd22HoWwef",
        "colab_type": "code",
        "colab": {}
      },
      "source": [
        "# import necessary library\n",
        "import torch\n",
        "import torch.nn as nn\n",
        "import torchvision.transforms as transforms\n",
        "import torchvision.datasets as dsets\n",
        "import torch.functional as F\n",
        "import matplotlib.pyplot as plt\n",
        "import numpy as np"
      ],
      "execution_count": 0,
      "outputs": []
    },
    {
      "cell_type": "code",
      "metadata": {
        "id": "08e3FM9dfpGz",
        "colab_type": "code",
        "colab": {
          "base_uri": "https://localhost:8080/",
          "height": 34
        },
        "outputId": "4794e960-90d0-4d98-fc6d-537e318782ee"
      },
      "source": [
        "use_cuda = torch.cuda.is_available()\n",
        "device = torch.device('cuda:0' if use_cuda else 'cpu')\n",
        "print(device)"
      ],
      "execution_count": 4,
      "outputs": [
        {
          "output_type": "stream",
          "text": [
            "cuda:0\n"
          ],
          "name": "stdout"
        }
      ]
    },
    {
      "cell_type": "code",
      "metadata": {
        "id": "42wsVROGXPL8",
        "colab_type": "code",
        "colab": {}
      },
      "source": [
        "# create Net with relu\n",
        "\n",
        "class Net(nn.Module):\n",
        "  \n",
        "  # constructor\n",
        "  def __init__(self, D_in, H1, H2, D_out):\n",
        "    super(Net, self).__init__()\n",
        "    self.linear1 = nn.Linear(D_in, H1)\n",
        "    self.linear2 = nn.Linear(H1, H2)\n",
        "    self.linear3 = nn.Linear(H2, D_out)\n",
        "    \n",
        "    \n",
        "  # Forward with relu, can be replaced using tanh/sigmoid\n",
        "  def forward(self, x):\n",
        "    x = torch.relu(self.linear1(x))\n",
        "    x = torch.relu(self.linear2(x))\n",
        "    x = torch.relu(self.linear3(x))\n",
        "    return x"
      ],
      "execution_count": 0,
      "outputs": []
    },
    {
      "cell_type": "code",
      "metadata": {
        "id": "mHjSJEIqX88Q",
        "colab_type": "code",
        "colab": {}
      },
      "source": [
        "# training\n",
        "\n",
        "def train(model, criterion, train_loader, validation_loader, optimizer, epoch = 100):\n",
        "  log = {'train_loss':[], 'validation_accuracy': []}\n",
        "  \n",
        "  for e in tqdm(range(epoch)):\n",
        "    for i , (x,y) in enumerate(train_loader):\n",
        "      x = x.to(device)\n",
        "      y = y.to(device)\n",
        "      \n",
        "      # zero the grads\n",
        "      optimizer.zero_grad()\n",
        "      # prediction\n",
        "      y_hat = model(x.view(-1, 28*28))\n",
        "      # loss\n",
        "      loss = criterion(y_hat, y)\n",
        "      # grad\n",
        "      loss.backward()\n",
        "      # update weights\n",
        "      optimizer.step()\n",
        "      # record loss\n",
        "      log['train_loss'].append(loss.data.item())\n",
        "    \n",
        "    count = 0\n",
        "    \n",
        "    for x,y in validation_loader:\n",
        "      x = x.to(device)\n",
        "      y = y.to(device)\n",
        "      yhat = model(x.view(-1, 28*28))\n",
        "      _, label = torch.max(yhat, 1)\n",
        "      count += (label == y).sum().item()\n",
        "    \n",
        "    accuracy = 100 * (count / len(validation_dataset))\n",
        "    log['validation_accuracy'].append(accuracy)\n",
        "  return log"
      ],
      "execution_count": 0,
      "outputs": []
    },
    {
      "cell_type": "code",
      "metadata": {
        "id": "IRKkXrhHaB-i",
        "colab_type": "code",
        "colab": {}
      },
      "source": [
        "# download data using torchvision.datasets\n",
        "train_dataset = dsets.MNIST(root='./data', \n",
        "                            train=True, \n",
        "                            download=True, \n",
        "                            transform=transforms.ToTensor())"
      ],
      "execution_count": 0,
      "outputs": []
    },
    {
      "cell_type": "code",
      "metadata": {
        "id": "Ys4T4CQMaF9p",
        "colab_type": "code",
        "colab": {}
      },
      "source": [
        "validation_dataset = dsets.MNIST(root='./data', \n",
        "                                 train=False, \n",
        "                                 download=True, \n",
        "                                 transform=transforms.ToTensor())"
      ],
      "execution_count": 0,
      "outputs": []
    },
    {
      "cell_type": "code",
      "metadata": {
        "id": "5nzySN7OaJYS",
        "colab_type": "code",
        "colab": {}
      },
      "source": [
        "# using building corssentropyloss as criterion \n",
        "criterion = nn.CrossEntropyLoss()"
      ],
      "execution_count": 0,
      "outputs": []
    },
    {
      "cell_type": "code",
      "metadata": {
        "id": "Ud4i_z6taMaC",
        "colab_type": "code",
        "colab": {}
      },
      "source": [
        "# using torch.utils.data.DataLoader to convert data format\n",
        "train_loader = torch.utils.data.DataLoader(dataset=train_dataset, \n",
        "                                           batch_size=2000, \n",
        "                                           shuffle=True)\n",
        "\n",
        "validation_loader = torch.utils.data.DataLoader(dataset=validation_dataset, \n",
        "                                                batch_size=5000, \n",
        "                                                shuffle=False)"
      ],
      "execution_count": 0,
      "outputs": []
    },
    {
      "cell_type": "code",
      "metadata": {
        "id": "_GiE8UXfak6b",
        "colab_type": "code",
        "colab": {}
      },
      "source": [
        "# Model parameter\n",
        "input_dim = 28 * 28\n",
        "hidden_dim1 = 100\n",
        "hidden_dim2 = 100\n",
        "output_dim = 10\n",
        "\n",
        "# epoch\n",
        "epochs = 100\n",
        "\n",
        "# train parameter\n",
        "lr = 0.01\n",
        "\n",
        "# model initiation \n",
        "model = Net(input_dim, hidden_dim1, hidden_dim2, output_dim)\n",
        "model = model.to(device)\n",
        "optimizer = torch.optim.SGD(model.parameters(), lr = lr)\n"
      ],
      "execution_count": 0,
      "outputs": []
    },
    {
      "cell_type": "code",
      "metadata": {
        "id": "zvqFrH8barIC",
        "colab_type": "code",
        "colab": {
          "base_uri": "https://localhost:8080/",
          "height": 34
        },
        "outputId": "120b373d-d36f-40fe-83f3-5a181980db60"
      },
      "source": [
        "# training\n",
        "results = train(model, criterion, train_loader, validation_loader, optimizer, epochs)"
      ],
      "execution_count": 12,
      "outputs": [
        {
          "output_type": "stream",
          "text": [
            "100%|██████████| 100/100 [08:49<00:00,  5.43s/it]\n"
          ],
          "name": "stderr"
        }
      ]
    },
    {
      "cell_type": "code",
      "metadata": {
        "id": "hdvYKzmMauuC",
        "colab_type": "code",
        "colab": {
          "base_uri": "https://localhost:8080/",
          "height": 298
        },
        "outputId": "7995ef22-aa6f-4dac-83fc-1b3e69732030"
      },
      "source": [
        "plt.plot(results['train_loss'], label='relu')\n",
        "plt.ylabel('loss')\n",
        "plt.title('training loss iterations')\n",
        "plt.legend()"
      ],
      "execution_count": 13,
      "outputs": [
        {
          "output_type": "execute_result",
          "data": {
            "text/plain": [
              "<matplotlib.legend.Legend at 0x7f2534daf860>"
            ]
          },
          "metadata": {
            "tags": []
          },
          "execution_count": 13
        },
        {
          "output_type": "display_data",
          "data": {
            "image/png": "[encoded data removed]",
            "text/plain": [
              "<Figure size 432x288 with 1 Axes>"
            ]
          },
          "metadata": {
            "tags": []
          }
        }
      ]
    },
    {
      "cell_type": "code",
      "metadata": {
        "id": "GE5-Bu5absdz",
        "colab_type": "code",
        "colab": {
          "base_uri": "https://localhost:8080/",
          "height": 300
        },
        "outputId": "ff22377a-020f-4408-8203-75cda1de98b9"
      },
      "source": [
        "plt.plot(results['validation_accuracy'], label = 'relu') \n",
        "plt.ylabel('validation accuracy')\n",
        "plt.xlabel('Iteration')   \n",
        "plt.legend()"
      ],
      "execution_count": 14,
      "outputs": [
        {
          "output_type": "execute_result",
          "data": {
            "text/plain": [
              "<matplotlib.legend.Legend at 0x7f2534dbd860>"
            ]
          },
          "metadata": {
            "tags": []
          },
          "execution_count": 14
        },
        {
          "output_type": "display_data",
          "data": {
            "image/png": "[encoded data removed]",
            "text/plain": [
              "<Figure size 432x288 with 1 Axes>"
            ]
          },
          "metadata": {
            "tags": []
          }
        }
      ]
    },
    {
      "cell_type": "code",
      "metadata": {
        "id": "ORfdH4AFb74z",
        "colab_type": "code",
        "colab": {}
      },
      "source": [
        ""
      ],
      "execution_count": 0,
      "outputs": []
    },
    {
      "cell_type": "code",
      "metadata": {
        "id": "X4VM2lMtdf5j",
        "colab_type": "code",
        "colab": {}
      },
      "source": [
        ""
      ],
      "execution_count": 0,
      "outputs": []
    }
  ]
}