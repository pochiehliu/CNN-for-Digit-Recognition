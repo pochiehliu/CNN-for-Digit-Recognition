{
 "cells": [
  {
   "cell_type": "markdown",
   "metadata": {},
   "source": [
    "# Apply k-NN and SVM for digit recognition\n",
    "\n",
    "Before applying Deep Learning, first apply the k-NN and SVM algorithms as baseline models."
   ]
  },
  {
   "cell_type": "code",
   "execution_count": 22,
   "metadata": {},
   "outputs": [],
   "source": [
    "import os\n",
    "from mnist import MNIST\n",
    "import numpy as np\n",
    "import pandas as pd\n",
    "from sklearn import svm\n",
    "from matplotlib import pyplot as plt\n",
    "import seaborn as sns"
   ]
  },
  {
   "cell_type": "code",
   "execution_count": 23,
   "metadata": {},
   "outputs": [
    {
     "name": "stdout",
     "output_type": "stream",
     "text": [
      "Training set size: 60000\n",
      "Testing set size:10000\n"
     ]
    }
   ],
   "source": [
    "mnidata = MNIST(os.getcwd()+'/Data')\n",
    "train_images, train_labels = mnidata.load_training()\n",
    "test_images, test_labels = mnidata.load_testing()\n",
    "print('Training set size: '+ str(len(train_labels)))\n",
    "print('Testing set size:' + str(len(test_labels)))"
   ]
  },
  {
   "cell_type": "code",
   "execution_count": 24,
   "metadata": {},
   "outputs": [],
   "source": [
    "# dataset is too large for personal computer. Reduce dataset by using pandas sample function\n",
    "train_images_sample = pd.DataFrame(train_images).sample(n=10000,random_state = 1)\n",
    "train_labels_sample = pd.Series(train_labels).iloc[train_images_sample.index]\n",
    "test_images_sample = pd.DataFrame(test_images).sample(n=1000,random_state = 1)\n",
    "test_labels_sample = pd.Series(test_labels).iloc[test_images_sample.index]"
   ]
  },
  {
   "cell_type": "code",
   "execution_count": 25,
   "metadata": {},
   "outputs": [
    {
     "name": "stdout",
     "output_type": "stream",
     "text": [
      "data size: 10000\n"
     ]
    },
    {
     "data": {
      "image/png": "[encoded data removed]",
      "text/plain": [
       "<Figure size 432x288 with 1 Axes>"
      ]
     },
     "metadata": {
      "needs_background": "light"
     },
     "output_type": "display_data"
    }
   ],
   "source": [
    "train_labels = pd.Series(train_labels_sample).to_frame(name='label').groupby('label').size().reset_index(name = 'count')\n",
    "print('data size: ' + str(len(train_images_sample)))\n",
    "_ = sns.barplot(x= 'label', y = 'count', data = train_labels)"
   ]
  },
  {
   "cell_type": "code",
   "execution_count": 26,
   "metadata": {},
   "outputs": [
    {
     "name": "stdout",
     "output_type": "stream",
     "text": [
      "data size: 1000\n"
     ]
    },
    {
     "data": {
      "image/png": "[encoded data removed]",
      "text/plain": [
       "<Figure size 432x288 with 1 Axes>"
      ]
     },
     "metadata": {
      "needs_background": "light"
     },
     "output_type": "display_data"
    }
   ],
   "source": [
    "test_labels = pd.Series(test_labels_sample).to_frame(name='label').groupby('label').size().reset_index(name = 'count')\n",
    "print('data size: ' + str(len(test_labels_sample)))\n",
    "_ = sns.barplot(x= 'label', y = 'count', data = test_labels)"
   ]
  },
  {
   "cell_type": "code",
   "execution_count": 27,
   "metadata": {},
   "outputs": [],
   "source": [
    "train_images_sample = train_images_sample.values.tolist()\n",
    "train_labels_sample = train_labels_sample.values.tolist()\n",
    "test_images_sample = test_images_sample.values.tolist()\n",
    "test_labels_sample = test_labels_sample.values.tolist()"
   ]
  },
  {
   "cell_type": "markdown",
   "metadata": {},
   "source": [
    "kNN"
   ]
  },
  {
   "cell_type": "code",
   "execution_count": 28,
   "metadata": {},
   "outputs": [],
   "source": [
    "from sklearn.neighbors import KNeighborsClassifier"
   ]
  },
  {
   "cell_type": "code",
   "execution_count": 29,
   "metadata": {},
   "outputs": [
    {
     "name": "stdout",
     "output_type": "stream",
     "text": [
      "1 nearest neighbors score is :0.947\n",
      "2 nearest neighbors score is :0.937\n",
      "3 nearest neighbors score is :0.946\n",
      "4 nearest neighbors score is :0.943\n",
      "5 nearest neighbors score is :0.95\n",
      "6 nearest neighbors score is :0.947\n",
      "7 nearest neighbors score is :0.948\n",
      "8 nearest neighbors score is :0.945\n",
      "9 nearest neighbors score is :0.947\n",
      "10 nearest neighbors score is :0.947\n",
      "11 nearest neighbors score is :0.947\n",
      "12 nearest neighbors score is :0.947\n",
      "13 nearest neighbors score is :0.946\n",
      "14 nearest neighbors score is :0.941\n",
      "15 nearest neighbors score is :0.94\n"
     ]
    }
   ],
   "source": [
    "scores = []\n",
    "for n in range(1, 16):\n",
    "    kNN_model = KNeighborsClassifier(n)\n",
    "    kNN_model.fit(train_images_sample, train_labels_sample)\n",
    "    score = kNN_model.score(test_images_sample, test_labels_sample)\n",
    "    print (str(n) + ' nearest neighbors score is :' + str(score))\n",
    "    scores.append([n,score])\n",
    "    "
   ]
  },
  {
   "cell_type": "code",
   "execution_count": 30,
   "metadata": {},
   "outputs": [
    {
     "name": "stdout",
     "output_type": "stream",
     "text": [
      "Optimized n: 5\n",
      "Highest score: 0.95\n"
     ]
    }
   ],
   "source": [
    "(best_n, best_score) = sorted(scores,key = lambda x: x[1])[-1]\n",
    "print('Optimized n: ' + str(best_n))\n",
    "print('Highest score: ' + str(best_score))"
   ]
  },
  {
   "cell_type": "code",
   "execution_count": 31,
   "metadata": {},
   "outputs": [],
   "source": [
    "kNN_model = KNeighborsClassifier(best_n).fit(train_images_sample, train_labels_sample)"
   ]
  },
  {
   "cell_type": "code",
   "execution_count": 32,
   "metadata": {},
   "outputs": [],
   "source": [
    "Prediction = kNN_model.predict(test_images_sample)"
   ]
  },
  {
   "cell_type": "code",
   "execution_count": 33,
   "metadata": {},
   "outputs": [],
   "source": [
    "def squareFormat(x):\n",
    "    square = np.array(x)\n",
    "    square.resize(28,28)\n",
    "    return square\n",
    "    \n",
    "def showImg(x,label):\n",
    "    plt.imshow(x, cmap = 'gray')\n",
    "    plt.title('Predicted digit: '+ str(label))\n",
    "    plt.xticks([])\n",
    "    plt.yticks([])"
   ]
  },
  {
   "cell_type": "code",
   "execution_count": 34,
   "metadata": {},
   "outputs": [
    {
     "data": {
      "image/png": "[encoded data removed]",
      "text/plain": [
       "<Figure size 1080x360 with 10 Axes>"
      ]
     },
     "metadata": {},
     "output_type": "display_data"
    }
   ],
   "source": [
    "fig = plt.figure(figsize = (15,5))\n",
    "_ = fig.suptitle('First 10 data in testing set')\n",
    "for i in range(1,11):\n",
    "    plt.subplot(2,5,i)\n",
    "    showImg(squareFormat(test_images_sample[i-1]), Prediction[i-1])"
   ]
  },
  {
   "cell_type": "markdown",
   "metadata": {},
   "source": [
    "knn results"
   ]
  },
  {
   "cell_type": "markdown",
   "metadata": {},
   "source": [
    "svm"
   ]
  },
  {
   "cell_type": "code",
   "execution_count": 35,
   "metadata": {},
   "outputs": [],
   "source": [
    "from sklearn import svm"
   ]
  },
  {
   "cell_type": "code",
   "execution_count": 36,
   "metadata": {},
   "outputs": [],
   "source": [
    "svm_model = svm.SVC(gamma=0.001)"
   ]
  },
  {
   "cell_type": "code",
   "execution_count": 37,
   "metadata": {},
   "outputs": [
    {
     "data": {
      "text/plain": [
       "SVC(C=1.0, cache_size=200, class_weight=None, coef0=0.0,\n",
       "  decision_function_shape='ovr', degree=3, gamma=0.001, kernel='rbf',\n",
       "  max_iter=-1, probability=False, random_state=None, shrinking=True,\n",
       "  tol=0.001, verbose=False)"
      ]
     },
     "execution_count": 37,
     "metadata": {},
     "output_type": "execute_result"
    }
   ],
   "source": [
    "svm_model.fit(train_images_sample, train_labels_sample)"
   ]
  },
  {
   "cell_type": "code",
   "execution_count": 38,
   "metadata": {},
   "outputs": [
    {
     "data": {
      "text/plain": [
       "1.0"
      ]
     },
     "execution_count": 38,
     "metadata": {},
     "output_type": "execute_result"
    }
   ],
   "source": [
    "svm_model.score(train_images_sample, train_labels_sample)"
   ]
  },
  {
   "cell_type": "code",
   "execution_count": 39,
   "metadata": {},
   "outputs": [
    {
     "data": {
      "text/plain": [
       "0.107"
      ]
     },
     "execution_count": 39,
     "metadata": {},
     "output_type": "execute_result"
    }
   ],
   "source": [
    "svm_model.score(test_images_sample, test_labels_sample)"
   ]
  },
  {
   "cell_type": "code",
   "execution_count": 40,
   "metadata": {},
   "outputs": [],
   "source": [
    "Prediction = svm_model.predict(test_images_sample)"
   ]
  },
  {
   "cell_type": "code",
   "execution_count": 41,
   "metadata": {},
   "outputs": [
    {
     "data": {
      "image/png": "[encoded data removed]",
      "text/plain": [
       "<Figure size 1080x360 with 10 Axes>"
      ]
     },
     "metadata": {},
     "output_type": "display_data"
    }
   ],
   "source": [
    "fig = plt.figure(figsize = (15,5))\n",
    "_ = fig.suptitle('First 10 data in testing set')\n",
    "for i in range(1,11):\n",
    "    plt.subplot(2,5,i)\n",
    "    showImg(squareFormat(test_images_sample[i-1]), Prediction[i-1])"
   ]
  },
  {
   "cell_type": "code",
   "execution_count": 57,
   "metadata": {},
   "outputs": [],
   "source": [
    "svm_train_sampe = train_images_sample.copy()\n",
    "svm_train_sampe = np.array(svm_train_sampe)\n",
    "svm_train_sampe[svm_train_sampe>0] = 1\n",
    "svm_test_sampe = test_images_sample.copy()\n",
    "svm_test_sampe = np.array(svm_test_sampe)\n",
    "svm_test_sampe[svm_test_sampe>0] = 1"
   ]
  },
  {
   "cell_type": "code",
   "execution_count": 52,
   "metadata": {},
   "outputs": [
    {
     "data": {
      "text/plain": [
       "SVC(C=1.0, cache_size=200, class_weight=None, coef0=0.0,\n",
       "  decision_function_shape='ovr', degree=3, gamma=0.001, kernel='rbf',\n",
       "  max_iter=-1, probability=False, random_state=None, shrinking=True,\n",
       "  tol=0.001, verbose=False)"
      ]
     },
     "execution_count": 52,
     "metadata": {},
     "output_type": "execute_result"
    }
   ],
   "source": [
    "svm_model.fit(svm_train_sampe, train_labels_sample)"
   ]
  },
  {
   "cell_type": "code",
   "execution_count": 56,
   "metadata": {},
   "outputs": [
    {
     "data": {
      "text/plain": [
       "0.9318"
      ]
     },
     "execution_count": 56,
     "metadata": {},
     "output_type": "execute_result"
    }
   ],
   "source": [
    "svm_model.score(svm_train_sampe, train_labels_sample)"
   ]
  },
  {
   "cell_type": "code",
   "execution_count": 58,
   "metadata": {},
   "outputs": [],
   "source": [
    "Prediction = svm_model.predict(svm_test_sampe)"
   ]
  },
  {
   "cell_type": "code",
   "execution_count": 59,
   "metadata": {},
   "outputs": [
    {
     "data": {
      "image/png": "[encoded data removed]",
      "text/plain": [
       "<Figure size 1080x360 with 10 Axes>"
      ]
     },
     "metadata": {},
     "output_type": "display_data"
    }
   ],
   "source": [
    "fig = plt.figure(figsize = (15,5))\n",
    "_ = fig.suptitle('First 10 data in testing set')\n",
    "for i in range(1,11):\n",
    "    plt.subplot(2,5,i)\n",
    "    showImg(squareFormat(svm_test_sampe[i-1]), Prediction[i-1])"
   ]
  },
  {
   "cell_type": "code",
   "execution_count": null,
   "metadata": {},
   "outputs": [],
   "source": []
  }
 ],
 "metadata": {
  "kernelspec": {
   "display_name": "Python 3",
   "language": "python",
   "name": "python3"
  },
  "language_info": {
   "codemirror_mode": {
    "name": "ipython",
    "version": 3
   },
   "file_extension": ".py",
   "mimetype": "text/x-python",
   "name": "python",
   "nbconvert_exporter": "python",
   "pygments_lexer": "ipython3",
   "version": "3.7.1"
  }
 },
 "nbformat": 4,
 "nbformat_minor": 2
}
