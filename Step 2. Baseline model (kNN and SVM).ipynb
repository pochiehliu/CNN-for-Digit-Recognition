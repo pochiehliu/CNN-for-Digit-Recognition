{
 "cells": [
  {
   "cell_type": "markdown",
   "metadata": {},
   "source": [
    "# Apply k-NN and SVM for digit recognition\n",
    "\n",
    "Before applying Deep Learning, first apply the k-NN and SVM algorithms as baseline models."
   ]
  },
  {
   "cell_type": "code",
   "execution_count": 1,
   "metadata": {},
   "outputs": [],
   "source": [
    "import os\n",
    "from mnist import MNIST\n",
    "import numpy as np\n",
    "from sklearn import svm\n",
    "import pandas as pd"
   ]
  },
  {
   "cell_type": "code",
   "execution_count": 2,
   "metadata": {},
   "outputs": [],
   "source": [
    "mnidata = MNIST(os.getcwd()+'/Data')\n",
    "train_images, train_labels = mnidata.load_training()\n",
    "test_images, test_labels = mnidata.load_testing()"
   ]
  },
  {
   "cell_type": "code",
   "execution_count": 10,
   "metadata": {},
   "outputs": [],
   "source": [
    "# dataset is too large for personal computer. Reduce dataset by using pandas sample function\n",
    "train_images_sample = pd.DataFrame(train_images).sample(n=1000)\n",
    "train_labels_sample = pd.Series(train_labels).iloc[train_images_sample.index]\n",
    "test_images_sample = pd.DataFrame(test_images).sample(n=200)\n",
    "test_labels_sample = pd.Series(test_labels).iloc[test_images_sample.index]"
   ]
  },
  {
   "cell_type": "code",
   "execution_count": 12,
   "metadata": {},
   "outputs": [],
   "source": [
    "train_images_sample = train_images_sample.values.tolist()\n",
    "train_labels_sample = train_labels_sample.values.tolist()\n",
    "test_images_sample = test_images_sample.values.tolist()\n",
    "test_labels_sample = test_labels_sample.values.tolist()"
   ]
  },
  {
   "cell_type": "markdown",
   "metadata": {},
   "source": [
    "k-NN"
   ]
  },
  {
   "cell_type": "code",
   "execution_count": 1,
   "metadata": {},
   "outputs": [],
   "source": [
    "from sklearn.neighbors import KNeighborsClassifier"
   ]
  },
  {
   "cell_type": "code",
   "execution_count": 14,
   "metadata": {},
   "outputs": [
    {
     "name": "stdout",
     "output_type": "stream",
     "text": [
      "SVM prediciton score 0.07\n"
     ]
    }
   ],
   "source": [
    "scores = []\n",
    "for n in range(1, 30, 2):\n",
    "    kNN_model = KNeighborsClassifier(n)\n",
    "    kNN_model.fit(train_images_sample, train_labels_sample)\n",
    "    score = kNN_model.score(test_images_sample, test_labels_sample)\n",
    "    print (str(n) + ' nearest neighbors score is :' + str(score))\n",
    "    scores.append([n,score])\n",
    "    "
   ]
  },
  {
   "cell_type": "code",
   "execution_count": 21,
   "metadata": {},
   "outputs": [
    {
     "data": {
      "text/plain": [
       "int"
      ]
     },
     "execution_count": 21,
     "metadata": {},
     "output_type": "execute_result"
    }
   ],
   "source": []
  },
  {
   "cell_type": "code",
   "execution_count": null,
   "metadata": {},
   "outputs": [],
   "source": []
  },
  {
   "cell_type": "code",
   "execution_count": null,
   "metadata": {},
   "outputs": [],
   "source": []
  },
  {
   "cell_type": "code",
   "execution_count": null,
   "metadata": {},
   "outputs": [],
   "source": []
  },
  {
   "cell_type": "code",
   "execution_count": null,
   "metadata": {},
   "outputs": [],
   "source": []
  },
  {
   "cell_type": "code",
   "execution_count": null,
   "metadata": {},
   "outputs": [],
   "source": []
  }
 ],
 "metadata": {
  "kernelspec": {
   "display_name": "Python 3",
   "language": "python",
   "name": "python3"
  },
  "language_info": {
   "codemirror_mode": {
    "name": "ipython",
    "version": 3
   },
   "file_extension": ".py",
   "mimetype": "text/x-python",
   "name": "python",
   "nbconvert_exporter": "python",
   "pygments_lexer": "ipython3",
   "version": "3.7.1"
  }
 },
 "nbformat": 4,
 "nbformat_minor": 2
}
