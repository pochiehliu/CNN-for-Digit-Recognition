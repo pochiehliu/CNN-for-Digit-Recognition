{
 "cells": [
  {
   "cell_type": "markdown",
   "metadata": {},
   "source": [
    "## Neural Network and Convolutional Neural Network Practice\n",
    "\n",
    "Self taught deep learning using book \"Deep Learning\" published by O'Reilly.\n",
    "\n",
    "The basic structure of neural network is a cell. The cell receiving input and generate output based on the input value. Sometimes people using activated to describe the input value is large enough to trigger cell to send output. The mathematic format can be expressed as $y = f(x)$, where $x$ is the input value, $f(x)$ is the activation function, and $y$ is the output value."
   ]
  },
  {
   "cell_type": "code",
   "execution_count": 2,
   "metadata": {},
   "outputs": [],
   "source": [
    "# import necessary package\n",
    "import numpy as np"
   ]
  },
  {
   "cell_type": "markdown",
   "metadata": {},
   "source": [
    "We usually have multiple input data, and multile cells in a layer. Matrix expression is easier for us to construct the neural network model. Thus, matrix operations such as addition, multiplication, and transpose are very important. Apply numpy function to check dimension is curcial. "
   ]
  },
  {
   "cell_type": "code",
   "execution_count": 3,
   "metadata": {},
   "outputs": [
    {
     "name": "stdout",
     "output_type": "stream",
     "text": [
      "[[2 3 4]\n",
      " [5 6 7]]\n",
      "Use .shape to check x size: (2, 3)\n",
      "Use .ndim to check x dimension: 2\n"
     ]
    }
   ],
   "source": [
    "# basic notes for np array\n",
    "x = np.array([[2,3,4],[5,6,7]])\n",
    "print(x)\n",
    "print('Use .shape to check x size: ' + str(x.shape))\n",
    "print('Use .ndim to check x dimension: '+ str(x.ndim))"
   ]
  },
  {
   "cell_type": "markdown",
   "metadata": {},
   "source": [
    "### Helper functions\n",
    "\n",
    "#### Activation function\n",
    "\n",
    "Step function is not a good choice for activating function in practical due to the sharp step at 0. The cell input values are usually processed by **Sigmoid** or **Relu** functions to create a smooth version input. For regression, the final results are directly used. For classification problem, **Softmax** function is commonly used to choice final selection."
   ]
  },
  {
   "cell_type": "code",
   "execution_count": 4,
   "metadata": {},
   "outputs": [],
   "source": [
    "# Sigmoid function, y = 1/(1+exp(-x))\n",
    "def sigmoid(x):\n",
    "    return 1 / ( 1 + np.exp(-x) )\n",
    "\n",
    "# ReLU, y = x if x>0 else 0\n",
    "def relu(x):\n",
    "    return np.maximum(0, x)\n",
    "\n",
    "# gradient of sigmoid function, derive from dy/dx = 1/dx*(1/(1+exp(-x)))\n",
    "def sigmoid_grad(x):\n",
    "    return ( 1.0 - sigmoid(x) ) * sigmoid(x)\n",
    "\n",
    "# gradient of relu function, derive from y=x if x>0 else 0\n",
    "def relu_grad(x):\n",
    "    grad = np.zeros(x)\n",
    "    grad[x>0] = 1\n",
    "    return grad\n",
    "\n",
    "# softmax function, yk = exp(ak) / sum(exp(ai))\n",
    "# the results can be treat as probability\n",
    "def softmax(x):\n",
    "    # directly implement the function will cause overflow error\n",
    "    # return np.exp(x) / np.sum(exp_x)\n",
    "    \n",
    "    # substract max of x before exponential function to prevent error\n",
    "    x = x - np.max(x)\n",
    "    return np.exp(x) / np.sum(np.exp(x))"
   ]
  },
  {
   "cell_type": "markdown",
   "metadata": {},
   "source": [
    "#### Loss function\n",
    "For all machine learning problems, we need a loss function to help our model learning (adjusting weights). Both mean square error function and cross entropy error function are commonly used in neural network. \n",
    "\n",
    "The mean square error function can be expressed as:\n",
    "\n",
    "$E = \\sum (y_h-y)^2$\n",
    "\n",
    "The cross entropy error function can be expressed as:\n",
    "\n",
    "$E = - \\sum y\\log y_h$\n",
    "\n",
    "where $y$ is the true value, $y_h$ is model predicted value."
   ]
  },
  {
   "cell_type": "code",
   "execution_count": 10,
   "metadata": {},
   "outputs": [],
   "source": [
    "# error functions\n",
    "# mse\n",
    "def mse(y_h, y):\n",
    "    return 0.5 * np.sum( (y_h-y)**2 )\n",
    "\n",
    "# cross entropy error 1d version\n",
    "def cross_entropy_error(y_h, y):\n",
    "    delta = 1e-7 # prevent log function error\n",
    "    return -np.sum( y * np.log(y_h+delta) )"
   ]
  },
  {
   "cell_type": "markdown",
   "metadata": {},
   "source": [
    "### Practice 1: 1 layer network\n",
    "\n",
    "First we build a simple 1 layer network with 3 cells can take 2 input values and can predict 3 different classes. The matrix form can be expressed as following:\n",
    "\n",
    "$\\begin{bmatrix}\n",
    "X1 & X2\n",
    "\\end{bmatrix}\n",
    "\\begin{bmatrix}\n",
    "W_{1,1} & W_{1,2} & W_{1,3}\\\\ \n",
    "W_{2,1} & W_{2,2} & W_{2,3}\n",
    "\\end{bmatrix} = \\begin{bmatrix}\n",
    "y_{h1} & y_{h2} & y_{h3}\n",
    "\\end{bmatrix}$\n",
    "\n",
    "where $X_i$ is *i-th* input, $W_{ij}$ is weight of *i-th* input to *j-th* cell, $y_{hi}$ is *i-th* prediction."
   ]
  },
  {
   "cell_type": "code",
   "execution_count": 19,
   "metadata": {},
   "outputs": [],
   "source": [
    "# simple net practice\n",
    "class simpleNet:\n",
    "    def __init__(self):\n",
    "        self.W = np.random.randn(2,3)\n",
    "    \n",
    "    def predict(self, x):\n",
    "        return softmax(np.dot(x,self.W))\n",
    "    \n",
    "    def error(self, x, y):\n",
    "        y_h = softmax(self.predict(x))\n",
    "        return cross_entropy_error(y_h, y)"
   ]
  },
  {
   "cell_type": "code",
   "execution_count": 20,
   "metadata": {},
   "outputs": [
    {
     "name": "stdout",
     "output_type": "stream",
     "text": [
      "Predicted probability: [0.04099195 0.26444894 0.69455911]\n",
      "Predicted result: [0. 0. 1.]\n",
      "Cross Entropy Error: 0.7750146081970469\n"
     ]
    }
   ],
   "source": [
    "# initiate simple network\n",
    "net = simpleNet()\n",
    "\n",
    "# given inputs x1, x2 = 0.6, 0.9\n",
    "x = np.array([0.6, 0.9])\n",
    "\n",
    "# predict y\n",
    "y_hat = net.predict(x)\n",
    "print('Predicted probability: '+ str(y_hat))\n",
    "idx = np.argmax(y_hat)\n",
    "y_hat = np.zeros(y_hat.shape)\n",
    "y_hat[idx] = 1\n",
    "print('Predicted result: ' + str(y_hat))\n",
    "\n",
    "# assume actual result is [0, 0, 1]\n",
    "y =np.array([0, 0, 1])\n",
    "\n",
    "# cross entropy error\n",
    "error = net.error(x, y)\n",
    "print('Cross Entropy Error: ' + str(error))"
   ]
  },
  {
   "cell_type": "markdown",
   "metadata": {},
   "source": [
    "### Practice 2: 2 layers network\n",
    "\n",
    "Second, build a simple 2 layers network with dynamic number of cell, input and output. The initial weights are set using random function. The general form of 1 layer matrix form can be expressed as following:\n",
    "\n",
    "$\\begin{bmatrix}\n",
    "\\cdots X_1 \\cdots\\\\ \n",
    "\\end{bmatrix}_{1,784}\n",
    "\\begin{bmatrix}\n",
    "W_{1,1} &\\cdots  & W_{1,100}\\\\\n",
    "\\vdots & & \\vdots\\\\\n",
    "W_{784,1} &\\cdots  & W_{784,100}\n",
    "\\end{bmatrix}_{784,100}\n",
    "+\n",
    "\\begin{bmatrix}\n",
    "bias_1 \\cdots bias_{100}\n",
    "\\end{bmatrix}_{1,100}\n",
    "=\n",
    "\\begin{bmatrix}\n",
    "l_1  \\cdots l_{100}\n",
    "\\end{bmatrix}_{1,100}\n",
    "$\n",
    "\n",
    "The matrix form can easily be easily expanded to include more data in the same time, the input matrix and output matrix will become: \n",
    "$ \\begin{bmatrix}\n",
    "...X_1...\\\\ \n",
    "\\vdots \\\\ \n",
    "...X_N...\n",
    "\\end{bmatrix}_{N,784} \\begin{bmatrix}\n",
    "l_{1,1}  \\cdots l_{1,100} \\\\\n",
    "\\vdots \\\\ \n",
    "l_{N,1}  \\cdots l_{N,100} \n",
    "\\end{bmatrix}_{N,100} $\n",
    "\n",
    "Therefore, we need to modify some helper functions to nable matrix multiplication. "
   ]
  },
  {
   "cell_type": "code",
   "execution_count": 29,
   "metadata": {},
   "outputs": [],
   "source": [
    "# Some helper functions need to modify for high dimension calculation\n",
    "def softmax(x):\n",
    "    if x.ndim == 2:\n",
    "        x = x.T # convert x_i from row to column\n",
    "        x = x - np.max(x, axis = 0) # axis = 0: vertical \n",
    "        y = np.exp(x) / np.sum(np.exp(x), axis = 0)\n",
    "        return y.T # transpose back to original format\n",
    "\n",
    "    x = x - np.max(x)\n",
    "    return np.exp(x) / np.sum(np.exp(x))\n",
    "\n",
    "# for one-hot-encoding label\n",
    "def cross_entropy_error(y, t):\n",
    "    delta = 1e-7\n",
    "    if y.ndim == 1:\n",
    "        t = t.reshape(1, t.size)\n",
    "        y = y.reshape(1, y.size)\n",
    "    \n",
    "    batch_size = y.shape[0]\n",
    "    return -np.sum(t * np.log(y+delta)) / batch_size"
   ]
  },
  {
   "cell_type": "code",
   "execution_count": 34,
   "metadata": {},
   "outputs": [],
   "source": [
    "# 2 layers\n",
    "class TwoLayerNet:\n",
    "    def __init__(self, input_size, hidden_size, output_size, weight_init_std=0.01):\n",
    "        self.params = {}\n",
    "        \n",
    "        # 1st layer size: from input to cell size\n",
    "        self.params['W1'] = weight_init_std * np.random.randn(input_size, hidden_size)\n",
    "        self.params['b1'] = np.zeros(hidden_size)\n",
    "        \n",
    "        # 2nd layer size: from cell size to output size\n",
    "        self.params['W2'] = weight_init_std * np.random.randn(hidden_size, output_size)\n",
    "        self.params['b2'] = np.zeros(output_size)\n",
    "\n",
    "    def predict(self, x):\n",
    "        # first layer: input * W1 + b1\n",
    "        l1 = np.dot(x, self.params['W1']) +  self.params['b1']\n",
    "        # use sigmoid function to smooth values\n",
    "        z1 = sigmoid(l1)\n",
    "        \n",
    "        # second layer: input * W2 + b2\n",
    "        l2 = np.dot(z1, self.params['W2']) + self.params['b2']\n",
    "        # use softmax to normalize the result\n",
    "        y_h = softmax(l2)\n",
    "        \n",
    "        return y_h # probability\n",
    "    \n",
    "    def error(self, x, y):\n",
    "        y_h = self.predict(x)\n",
    "        return cross_entropy_error(y_h, y)\n",
    "    \n",
    "    def accuracy(self, x, y):\n",
    "        y_h = self.predict(x)\n",
    "        # extract highest probability index, same as digit\n",
    "        y_h = np.argmax(y_h, axis = 1)\n",
    "        # convert one_hat_encode label back to digit\n",
    "        y = np.argmax(y, axis = 1)\n",
    "        # return correct # / total #\n",
    "        return np.sum(y_h == y) / float(x.shape[0])\n",
    "    \n",
    "    # numerical gradient\n",
    "    # the purpose showing numerical gradient function is \n",
    "    # to show how slow the method is.\n",
    "    # graph gradient method is much faster.\n",
    "    def numerical_gradient(self, x, y):\n",
    "        pass\n",
    "        #loss_W = lambda W: self.loss(x, t)\n",
    "        #grads = {}\n",
    "        #grads['W1'] = numerical_gradient(loss_W, self.params['W1'])\n",
    "        #grads['b1'] = numerical_gradient(loss_W, self.params['b1'])\n",
    "        #grads['W2'] = numerical_gradient(loss_W, self.params['W2'])\n",
    "        #grads['b2'] = numerical_gradient(loss_W, self.params['b2'])\n",
    "        #return grads\n",
    "    \n",
    "    # graph gradient\n",
    "    def gradient(self, x, y):\n",
    "        grads = {}\n",
    "        \n",
    "        batch_size = x.shape[0] # number of data used\n",
    "        \n",
    "        # forward\n",
    "        l1 = np.dot(x, self.params['W1']) + self.params['b1']\n",
    "        z1 = sigmoid(l1)\n",
    "        l2 = np.dot(z1, self.params['W2']) + self.params['b2']\n",
    "        y_h = softmax(l2)\n",
    "        \n",
    "        # backward\n",
    "        dy = (y_h-y) / batch_size\n",
    "        grads['W2'] = np.dot(z1.T, dy)\n",
    "        grads['b2'] = np.sum(dy, axis = 0)\n",
    "        \n",
    "        dz1 = np.dot(dy, self.params['W2'].T)\n",
    "        dl1 = sigmoid_grad(l1) * dz1\n",
    "        grads['W1'] = np.dot(x.T, dl1)\n",
    "        grads['b1'] = np.sum(dl1, axis = 0)\n",
    "        \n",
    "        return grads"
   ]
  },
  {
   "cell_type": "code",
   "execution_count": 36,
   "metadata": {},
   "outputs": [
    {
     "name": "stdout",
     "output_type": "stream",
     "text": [
      "1st layer weight matrix dimension: (784, 100)\n",
      "1st layer bias vecotr dimension: (100,)\n",
      "2nd layer weight matrix dimension: (100, 10)\n",
      "2nd layer bias vector dimension: (10,)\n"
     ]
    }
   ],
   "source": [
    "# initiate two layers network with input size 784 (equals to 28*28 image size), \n",
    "# hidden layer with 100 cells, and output size 10 as 0~9 digits.\n",
    "net = TwoLayerNet(input_size = 784, hidden_size = 100, output_size= 10)\n",
    "\n",
    "# show the matrix size\n",
    "print('1st layer weight matrix dimension: ' + str(net.params['W1'].shape))\n",
    "print('1st layer bias vecotr dimension: ' + str(net.params['b1'].shape))\n",
    "print('2nd layer weight matrix dimension: ' +str(net.params['W2'].shape))\n",
    "print('2nd layer bias vector dimension: ' + str(net.params['b2'].shape))\n",
    "\n",
    "# random assign value of 100 pics (28*28 pixel)\n",
    "# size will be 100 pics * 784 pixel, means each row is a data point\n",
    "x = np.random.rand(100,784)\n",
    "\n",
    "# prediction\n",
    "y = net.predict(x)\n",
    "\n",
    "# random assign labels\n",
    "t = np.random.rand(100, 10)"
   ]
  },
  {
   "cell_type": "markdown",
   "metadata": {},
   "source": [
    "An important concept here is to understand how to use computational graph to estimate the gradient. The method is way faster than numerical gradient method."
   ]
  },
  {
   "cell_type": "markdown",
   "metadata": {},
   "source": [
    "### Apply 2 layers model to train and test MNIST data"
   ]
  },
  {
   "cell_type": "code",
   "execution_count": 37,
   "metadata": {},
   "outputs": [],
   "source": [
    "import os\n",
    "from mnist import MNIST\n",
    "mnidata = MNIST(os.getcwd()+'/Data')\n",
    "train_img, train_lab = mnidata.load_training()\n",
    "test_img, test_lab = mnidata.load_testing()"
   ]
  },
  {
   "cell_type": "code",
   "execution_count": 38,
   "metadata": {},
   "outputs": [],
   "source": [
    "train_data = np.array(train_img)\n",
    "train_label = np.array(train_lab)\n",
    "test_data = np.array(test_img)\n",
    "test_label = np.array(test_lab)\n",
    "\n",
    "# normalize image\n",
    "train_data = train_data.astype(np.float32)\n",
    "train_data /= 255.0\n",
    "test_data = test_data.astype(np.float32)\n",
    "test_data /= 255.0\n",
    "\n",
    "# convert label to one hot encoding\n",
    "def one_hot_encoding(labels, num_of_classes):\n",
    "    res = np.eye(num_of_classes)[np.array(labels).reshape(-1)]\n",
    "    return res.reshape(list(labels.shape)+[num_of_classes])\n",
    "\n",
    "train_label = one_hot_encoding(train_label, 10)\n",
    "test_label = one_hot_encoding(test_label, 10)"
   ]
  },
  {
   "cell_type": "code",
   "execution_count": 39,
   "metadata": {},
   "outputs": [],
   "source": [
    "# apply mnist data, using 100 cells per layer\n",
    "network = TwoLayerNet(input_size=784, hidden_size=100, output_size=10)"
   ]
  },
  {
   "cell_type": "code",
   "execution_count": 40,
   "metadata": {},
   "outputs": [
    {
     "name": "stdout",
     "output_type": "stream",
     "text": [
      "Training data size: 60000\n",
      "Testing data size: 10000\n",
      "1 epoch needs 600 iteration\n",
      "Note: epoch equals to size of training data\n"
     ]
    }
   ],
   "source": [
    "# parameters\n",
    "iteration_number = 10000\n",
    "train_data_size = train_data.shape[0]\n",
    "batch_data_size = 100\n",
    "learning_rate = 0.1\n",
    "\n",
    "train_error_list = []\n",
    "train_acc_list = []\n",
    "test_acc_list = []\n",
    "\n",
    "iter_per_epoch = train_data_size/batch_data_size\n",
    "\n",
    "print('Training data size: ' + str(train_data.shape[0]))\n",
    "print('Testing data size: ' + str(test_data.shape[0]))\n",
    "print('1 epoch needs '+ str(iter_per_epoch)[:-2] + ' iteration' )\n",
    "print('Note: epoch equals to size of training data')"
   ]
  },
  {
   "cell_type": "code",
   "execution_count": 41,
   "metadata": {},
   "outputs": [
    {
     "name": "stdout",
     "output_type": "stream",
     "text": [
      "---- 0 epoch----\n",
      "Training set accuracy: 0.0993\n",
      "Testing set accuracy: 0.1032\n",
      "---- 1 epoch----\n",
      "Training set accuracy: 0.8146833333333333\n",
      "Testing set accuracy: 0.8186\n",
      "---- 2 epoch----\n",
      "Training set accuracy: 0.87875\n",
      "Testing set accuracy: 0.8848\n",
      "---- 3 epoch----\n",
      "Training set accuracy: 0.89835\n",
      "Testing set accuracy: 0.9027\n",
      "---- 4 epoch----\n",
      "Training set accuracy: 0.9064666666666666\n",
      "Testing set accuracy: 0.9108\n",
      "---- 5 epoch----\n",
      "Training set accuracy: 0.9128333333333334\n",
      "Testing set accuracy: 0.9161\n",
      "---- 6 epoch----\n",
      "Training set accuracy: 0.9173333333333333\n",
      "Testing set accuracy: 0.9185\n",
      "---- 7 epoch----\n",
      "Training set accuracy: 0.9216166666666666\n",
      "Testing set accuracy: 0.9233\n",
      "---- 8 epoch----\n",
      "Training set accuracy: 0.92475\n",
      "Testing set accuracy: 0.9248\n",
      "---- 9 epoch----\n",
      "Training set accuracy: 0.9277666666666666\n",
      "Testing set accuracy: 0.9295\n",
      "---- 10 epoch----\n",
      "Training set accuracy: 0.9314666666666667\n",
      "Testing set accuracy: 0.9324\n",
      "---- 11 epoch----\n",
      "Training set accuracy: 0.9346\n",
      "Testing set accuracy: 0.935\n",
      "---- 12 epoch----\n",
      "Training set accuracy: 0.9367333333333333\n",
      "Testing set accuracy: 0.9372\n",
      "---- 13 epoch----\n",
      "Training set accuracy: 0.9397\n",
      "Testing set accuracy: 0.939\n",
      "---- 14 epoch----\n",
      "Training set accuracy: 0.9414833333333333\n",
      "Testing set accuracy: 0.9409\n",
      "---- 15 epoch----\n",
      "Training set accuracy: 0.9437333333333333\n",
      "Testing set accuracy: 0.9424\n",
      "---- 16 epoch----\n",
      "Training set accuracy: 0.9455833333333333\n",
      "Testing set accuracy: 0.9432\n"
     ]
    }
   ],
   "source": [
    "# training\n",
    "for i in range(iteration_number):\n",
    "    # mini-batch, using random function to randomly choicing data\n",
    "    batch_selection = np.random.choice(train_data_size, batch_data_size)\n",
    "    traing_data_batch = train_data[batch_selection]\n",
    "    train_label_batch = train_label[batch_selection]\n",
    "    \n",
    "    # compute gradient\n",
    "    grads = network.gradient(traing_data_batch, train_label_batch)\n",
    "    \n",
    "    # update weights\n",
    "    # New Weights = Weights - learning_rate * Weights gradients\n",
    "    for key in ('W1', 'b1', 'W2', 'b2'):\n",
    "        network.params[key] -= learning_rate * grads[key]\n",
    "        \n",
    "    # record error\n",
    "    error = network.error(traing_data_batch, train_label_batch)\n",
    "    train_error_list.append(error)\n",
    "    \n",
    "    if i % iter_per_epoch == 0:\n",
    "        train_acc = network.accuracy(train_data, train_label)\n",
    "        test_acc = network.accuracy(test_data, test_label)\n",
    "        train_acc_list.append(train_acc)\n",
    "        test_acc_list.append(test_acc)\n",
    "        print(\"---- \" + str(i//iter_per_epoch)[:-2] +\" epoch\" \"----\" )\n",
    "        print(\"Training set accuracy: \" + str(train_acc))\n",
    "        print(\"Testing set accuracy: \" + str(test_acc))"
   ]
  },
  {
   "cell_type": "markdown",
   "metadata": {},
   "source": [
    "Ploting results"
   ]
  },
  {
   "cell_type": "code",
   "execution_count": 42,
   "metadata": {},
   "outputs": [],
   "source": [
    "from matplotlib import pyplot as plt\n",
    "import seaborn as sns"
   ]
  },
  {
   "cell_type": "code",
   "execution_count": 43,
   "metadata": {},
   "outputs": [],
   "source": [
    "def squareFormat(x):\n",
    "    square = np.array(x)\n",
    "    square.resize(28,28)\n",
    "    return square\n",
    "    \n",
    "def showImg(x,label):\n",
    "    plt.imshow(x, cmap = 'gray')\n",
    "    plt.title('Predicted digit: '+ str(label))\n",
    "    plt.xticks([])\n",
    "    plt.yticks([])"
   ]
  },
  {
   "cell_type": "code",
   "execution_count": 44,
   "metadata": {},
   "outputs": [],
   "source": [
    "y_h = network.predict(test_data)\n",
    "y_h = np.argmax(y_h, axis = 1)\n",
    "y = np.argmax(test_label, axis = 1)"
   ]
  },
  {
   "cell_type": "code",
   "execution_count": 45,
   "metadata": {},
   "outputs": [
    {
     "data": {
      "image/png": "[encoded data removed]",
      "text/plain": [
       "<Figure size 1080x720 with 15 Axes>"
      ]
     },
     "metadata": {},
     "output_type": "display_data"
    }
   ],
   "source": [
    "img = test_data[y_h!=y][0:15]\n",
    "pre = y_h[y_h!=y][0:15]\n",
    "\n",
    "fig = plt.figure(figsize = (15,10))\n",
    "_ = fig.suptitle('First 10 wrong predictions')\n",
    "for i in range(1,16):\n",
    "    plt.subplot(3,5,i)\n",
    "    showImg(squareFormat(img[i-1]), pre[i-1])"
   ]
  },
  {
   "cell_type": "code",
   "execution_count": null,
   "metadata": {},
   "outputs": [],
   "source": []
  },
  {
   "cell_type": "code",
   "execution_count": null,
   "metadata": {},
   "outputs": [],
   "source": []
  }
 ],
 "metadata": {
  "kernelspec": {
   "display_name": "Python 3",
   "language": "python",
   "name": "python3"
  },
  "language_info": {
   "codemirror_mode": {
    "name": "ipython",
    "version": 3
   },
   "file_extension": ".py",
   "mimetype": "text/x-python",
   "name": "python",
   "nbconvert_exporter": "python",
   "pygments_lexer": "ipython3",
   "version": "3.7.1"
  }
 },
 "nbformat": 4,
 "nbformat_minor": 2
}
