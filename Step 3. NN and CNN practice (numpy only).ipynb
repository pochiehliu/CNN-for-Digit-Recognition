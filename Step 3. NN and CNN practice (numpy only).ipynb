{
 "cells": [
  {
   "cell_type": "markdown",
   "metadata": {},
   "source": [
    "## Neural Network and Convolutional Neural Network Practice\n",
    "\n",
    "Self taught deep learning using book \"Deep Learning\" published by O'Reilly.\n",
    "\n",
    "The basic structure of neural network is cell. The cell takes input and generate output based on the input value. Similar to $y = f(x)$. $x$ is the input value, $f(x)$ is the internal function, and $y$ is the output value."
   ]
  },
  {
   "cell_type": "code",
   "execution_count": 1,
   "metadata": {},
   "outputs": [],
   "source": [
    "# import necessary package\n",
    "import numpy as np"
   ]
  },
  {
   "cell_type": "code",
   "execution_count": 2,
   "metadata": {},
   "outputs": [
    {
     "name": "stdout",
     "output_type": "stream",
     "text": [
      "[[2 3 4]\n",
      " [5 6 7]]\n",
      "Use .shape to check x size: (2, 3)\n",
      "Use .ndim to check x dimension: 2\n"
     ]
    }
   ],
   "source": [
    "# basic notes for np array\n",
    "x = np.array([[2,3,4],[5,6,7]])\n",
    "print(x)\n",
    "print('Use .shape to check x size: ' + str(x.shape))\n",
    "print('Use .ndim to check x dimension: '+ str(x.ndim))"
   ]
  },
  {
   "cell_type": "markdown",
   "metadata": {},
   "source": [
    "### Helper functions\n",
    "\n",
    "Step function is not a good choice for activating cells in practical due to the sharp step at 0. The cell input values are usually processed by **Sigmoid** or **Relu** functions to create a smooth version input. For regression, the final results are directly used. For classification problem, **Softmax** function is commonly used to choice final selection."
   ]
  },
  {
   "cell_type": "code",
   "execution_count": 3,
   "metadata": {},
   "outputs": [],
   "source": [
    "# single function version for Two Layer Case\n",
    "# y = 1/(1+exp(-x))\n",
    "def sigmoid(x):\n",
    "    return 1 / ( 1 + np.exp(-x) )\n",
    "\n",
    "# ReLU\n",
    "# y = x if x>0 else 0\n",
    "def relu(x):\n",
    "    return np.maximum(0, x)\n",
    "\n",
    "# gradient of sigmoid function\n",
    "def sigmoid_grad(x):\n",
    "    return ( 1.0 - sigmoid(x) ) * sigmoid(x)\n",
    "\n",
    "# gradient of relu function\n",
    "def relu_grad(x):\n",
    "    grad = np.zeros(x)\n",
    "    grad[x>0] = 1\n",
    "    return grad\n",
    "\n",
    "# softmax function, usually used for clasification problem\n",
    "# yk = exp(ak) / sum(exp(ai))\n",
    "# the results can be treat as probability\n",
    "def softmax(x):\n",
    "    # following code will fail if the number is too large \n",
    "    # overflow caused by exp calculation\n",
    "    # return np.exp(x) / np.sum(exp_x)\n",
    "    \n",
    "    # substract max of x before exp calculation to prevent overflow\n",
    "    x = x - np.max(x)\n",
    "    return np.exp(x) / np.sum(np.exp(x))"
   ]
  },
  {
   "cell_type": "markdown",
   "metadata": {},
   "source": [
    "### Loss function\n",
    "For all machine learning problems, we need a loss function to help our model learning (adjusting weights). Both mean square error function and cross entropy error function are commonly used in neural network. \n",
    "\n",
    "The cross entropy error function can be expressed as:\n",
    "\n",
    "$E = - \\sum t_k\\log y_k$"
   ]
  },
  {
   "cell_type": "code",
   "execution_count": 4,
   "metadata": {},
   "outputs": [],
   "source": [
    "# error functions\n",
    "# mse\n",
    "def mse(y_h, y):\n",
    "    return 0.5 * np.sum( (y_h-y)**2 )\n",
    "\n",
    "# cross entropy error 1d version\n",
    "def cross_entropy_error(y_h, y):\n",
    "    delta = 1e-7 # prevent log function error\n",
    "    return -np.sum( y * np.log(y_h+delta) )"
   ]
  },
  {
   "cell_type": "markdown",
   "metadata": {},
   "source": [
    "### Practice 1: 1 layer network\n",
    "\n",
    "First we build a simple 1 layer network with 3 cells can take 2 input values and can predict 3 different classes."
   ]
  },
  {
   "cell_type": "code",
   "execution_count": 10,
   "metadata": {},
   "outputs": [],
   "source": [
    "# simple net practice\n",
    "class simpleNet:\n",
    "    def __init__(self):\n",
    "        # [x1, x2] * [W11 W12 W13] + [b1 b2 b3].T -> softmax -> [y1 y2 y3].T\n",
    "        #            [w21 w22 W23]\n",
    "        self.W = np.random.randn(2,3)\n",
    "    \n",
    "    def predict(self, x):\n",
    "        return softmax(np.dot(x,self.W))\n",
    "    \n",
    "    def loss(self, x, y):\n",
    "        y_h = softmax(self.predict(x))\n",
    "        return cross_entropy_error(y_h, y)"
   ]
  },
  {
   "cell_type": "code",
   "execution_count": 21,
   "metadata": {},
   "outputs": [
    {
     "name": "stdout",
     "output_type": "stream",
     "text": [
      "Prediction: [0.08924877 0.27614994 0.63460129]\n",
      "Cross Entropy Error: 0.8234710325675663\n"
     ]
    }
   ],
   "source": [
    "# initiate simple network\n",
    "net = simpleNet()\n",
    "\n",
    "# given inputs x1, x2 = 0.6, 0.9\n",
    "x = np.array([0.6, 0.9])\n",
    "\n",
    "# predict y\n",
    "y_hat = net.predict(x)\n",
    "print('Prediction: ' + str(y_hat))\n",
    "\n",
    "# assume actual result is [0, 0, 1]\n",
    "t =np.array([0, 0, 1])\n",
    "\n",
    "# cross entropy error\n",
    "error = net.loss(x, t)\n",
    "print('Cross Entropy Error: ' + str(error))"
   ]
  },
  {
   "cell_type": "markdown",
   "metadata": {},
   "source": [
    "### Practice 2: 2 layers network\n",
    "\n",
    "Second, build a simple 2 layers network with 100 cells. The input and output size are dynamic. The initial weights are set using random function."
   ]
  },
  {
   "cell_type": "code",
   "execution_count": 51,
   "metadata": {},
   "outputs": [],
   "source": [
    "# Some helper functions need to modify for high dimension calculation\n",
    "def softmax(x):\n",
    "    if x.ndim == 2:\n",
    "        x = x.T\n",
    "        x = x - np.max(x, axis=0) # axis = 0: vertical \n",
    "        y = np.exp(x) / np.sum(np.exp(x), axis=0)\n",
    "        return y.T \n",
    "\n",
    "    x = x - np.max(x)\n",
    "    return np.exp(x) / np.sum(np.exp(x))\n",
    "\n",
    "# for one-hot-encoding label\n",
    "def cross_entropy_error(y, t):\n",
    "    delta = 1e-7\n",
    "    if y.ndim == 1:\n",
    "        t = t.reshape(1, t.size)\n",
    "        y = y.reshape(1, y.size)\n",
    "    \n",
    "    batch_size = y.shape[0]\n",
    "    return -np.sum(t * np.log(y+delta)) / batch_size"
   ]
  },
  {
   "cell_type": "code",
   "execution_count": 44,
   "metadata": {},
   "outputs": [],
   "source": [
    "# 2 layers\n",
    "class TwoLayerNet:\n",
    "    def __init__(self, input_size, hidden_size, output_size, weight_init_std=0.01):\n",
    "        self.params = {}\n",
    "        \n",
    "        # 1st layer size: from input to cell size\n",
    "        self.params['W1'] = weight_init_std * np.random.randn(input_size, hidden_size)\n",
    "        self.params['b1'] = np.zeros(hidden_size)\n",
    "        \n",
    "        # 2nd layer size: from cell size to output size\n",
    "        self.params['W2'] = weight_init_std * np.random.randn(hidden_size, output_size)\n",
    "        self.params['b2'] = np.zeros(output_size)\n",
    "\n",
    "    def predict(self, x):\n",
    "        # first layer: input * W1 + b1\n",
    "        l1 = np.dot(x, self.params['W1']) +  self.params['b1']\n",
    "        # use sigmoid function to smooth values\n",
    "        z1 = sigmoid(l1)\n",
    "        \n",
    "        # second layer: input * W2 + b2\n",
    "        l2 = np.dot(z1, self.params['W2']) + self.params['b2']\n",
    "        # use softmax to normalize the result\n",
    "        y_h = softmax(l2)\n",
    "        \n",
    "        return y_h\n",
    "    \n",
    "    def error(self, x, y):\n",
    "        y_h = self.predict(x)\n",
    "        return cross_entropy_error(y_h, y)\n",
    "    \n",
    "    def accuracy(self, x, y):\n",
    "        y_h = self.predict(x)\n",
    "        # extract highest probability index, same as digit\n",
    "        y_h = np.argmax(y_h, axis = 1)\n",
    "        # convert one_hat_encode label back to digit\n",
    "        y = np.argmax(y, axis = 1)\n",
    "        # return correct # / total #\n",
    "        return np.sum(y_h == y) / float(x.shape[0])\n",
    "    \n",
    "    # numerical gradient\n",
    "    # the purpose showing numerical gradient function is \n",
    "    # to show how slow the method is.\n",
    "    # graph gradient method is much faster.\n",
    "    def numerical_gradient(self, x, y):\n",
    "        pass\n",
    "        #loss_W = lambda W: self.loss(x, t)\n",
    "        #grads = {}\n",
    "        #grads['W1'] = numerical_gradient(loss_W, self.params['W1'])\n",
    "        #grads['b1'] = numerical_gradient(loss_W, self.params['b1'])\n",
    "        #grads['W2'] = numerical_gradient(loss_W, self.params['W2'])\n",
    "        #grads['b2'] = numerical_gradient(loss_W, self.params['b2'])\n",
    "        #return grads\n",
    "    \n",
    "    # graph gradient\n",
    "    def gradient(self, x, y):\n",
    "        grads = {}\n",
    "        \n",
    "        batch_num = x.shape[0] # number of data used\n",
    "        \n",
    "        # forward\n",
    "        l1 = np.dot(x, self.params['W1']) + self.params['b1']\n",
    "        z1 = sigmoid(l1)\n",
    "        l2 = np.dot(z1, self.params['W2']) + self.params['b2']\n",
    "        y_h = softmax(l2)\n",
    "        \n",
    "        # backward\n",
    "        dy = (y_h-y) / batch_num\n",
    "        grads['W2'] = np.dot(z1.T, dy)\n",
    "        grads['b2'] = np.sum(dy, axis = 0)\n",
    "        \n",
    "        dz1 = np.dot(dy, self.params['W2'].T)\n",
    "        dl1 = sigmoid_grad(l1) * dz1\n",
    "        grads['W1'] = np.dot(x.T, dl1)\n",
    "        grads['b1'] = np.sum(dl1, axis = 0)\n",
    "        \n",
    "        return grads"
   ]
  },
  {
   "cell_type": "code",
   "execution_count": 79,
   "metadata": {},
   "outputs": [
    {
     "name": "stdout",
     "output_type": "stream",
     "text": [
      "Size of input * 1st layer cells: (784, 100)\n",
      "Size of 1st layer bias vecotr: (100,)\n",
      "Size of input * 1st layer cells: (100, 10)\n",
      "Size of 2nd layer bias vecotr: (10,)\n"
     ]
    }
   ],
   "source": [
    "# initiate two layers network with input size 784 (equals to 28*28 image size), \n",
    "# hidden layer with 100 cells, and output size 10 as 0~9 digits.\n",
    "net = TwoLayerNet(input_size = 784, hidden_size = 100, output_size= 10)\n",
    "\n",
    "# show the matrix size\n",
    "print('Size of input * 1st layer cells: ' + str(net.params['W1'].shape))\n",
    "print('Size of 1st layer bias vecotr: ' + str(net.params['b1'].shape))\n",
    "print('Size of input * 1st layer cells: ' +str(net.params['W2'].shape))\n",
    "print('Size of 2nd layer bias vecotr: ' + str(net.params['b2'].shape))\n",
    "\n",
    "# random assign value of 100 pics (28*28 pixel)\n",
    "# size will be 100 pics * 784 pixel, means each row is a data point\n",
    "x = np.random.rand(100,784)\n",
    "\n",
    "# prediction\n",
    "y = net.predict(x)\n",
    "\n",
    "# random assign labels\n",
    "t = np.random.rand(100, 10)"
   ]
  },
  {
   "cell_type": "markdown",
   "metadata": {},
   "source": [
    "An important concept here is to understand how to use computational graph to estimate the gradient. The method is way faster than numerical gradient method."
   ]
  },
  {
   "cell_type": "markdown",
   "metadata": {},
   "source": [
    "### Apply 2 layers model to train and test MNIST data"
   ]
  },
  {
   "cell_type": "code",
   "execution_count": 53,
   "metadata": {},
   "outputs": [],
   "source": [
    "import os\n",
    "from mnist import MNIST\n",
    "mnidata = MNIST(os.getcwd()+'/Data')\n",
    "train_img, train_lab = mnidata.load_training()\n",
    "test_img, test_lab = mnidata.load_testing()"
   ]
  },
  {
   "cell_type": "code",
   "execution_count": 54,
   "metadata": {},
   "outputs": [],
   "source": [
    "train_data = np.array(train_img)\n",
    "train_label = np.array(train_lab)\n",
    "test_data = np.array(test_img)\n",
    "test_label = np.array(test_lab)\n",
    "\n",
    "# normalize image\n",
    "train_data = train_data.astype(np.float32)\n",
    "train_data /= 255.0\n",
    "test_data = test_data.astype(np.float32)\n",
    "test_data /= 255.0\n",
    "\n",
    "# convert label to one hot encoding\n",
    "def one_hot_encoding(labels, num_of_classes):\n",
    "    res = np.eye(num_of_classes)[np.array(labels).reshape(-1)]\n",
    "    return res.reshape(list(labels.shape)+[num_of_classes])\n",
    "\n",
    "train_label = one_hot_encoding(train_label, 10)\n",
    "test_label = one_hot_encoding(test_label, 10)"
   ]
  },
  {
   "cell_type": "code",
   "execution_count": 55,
   "metadata": {},
   "outputs": [],
   "source": [
    "# apply mnist data, using 100 cells per layer\n",
    "network = TwoLayerNet(input_size=784, hidden_size=100, output_size=10)"
   ]
  },
  {
   "cell_type": "code",
   "execution_count": 80,
   "metadata": {},
   "outputs": [
    {
     "name": "stdout",
     "output_type": "stream",
     "text": [
      "Training data size: 60000\n",
      "Testing data size: 10000\n",
      "1 epoch needs 600 iteration\n",
      "Note: epoch equals to size of training data\n"
     ]
    }
   ],
   "source": [
    "# parameters\n",
    "iteration_number = 10000\n",
    "train_data_size = train_data.shape[0]\n",
    "batch_data_size = 100\n",
    "learning_rate = 0.1\n",
    "\n",
    "train_error_list = []\n",
    "train_acc_list = []\n",
    "test_acc_list = []\n",
    "\n",
    "iter_per_epoch = train_data_size/batch_data_size\n",
    "\n",
    "print('Training data size: ' + str(train_data.shape[0]))\n",
    "print('Testing data size: ' + str(test_data.shape[0]))\n",
    "print('1 epoch needs '+ str(iter_per_epoch)[:-2] + ' iteration' )\n",
    "print('Note: epoch equals to size of training data')"
   ]
  },
  {
   "cell_type": "code",
   "execution_count": 81,
   "metadata": {},
   "outputs": [
    {
     "name": "stdout",
     "output_type": "stream",
     "text": [
      "---- 0 epoch----\n",
      "Training set accuracy: 0.93095\n",
      "Testing set accuracy: 0.9318\n",
      "---- 1 epoch----\n",
      "Training set accuracy: 0.9347666666666666\n",
      "Testing set accuracy: 0.9349\n",
      "---- 2 epoch----\n",
      "Training set accuracy: 0.9381666666666667\n",
      "Testing set accuracy: 0.9373\n",
      "---- 3 epoch----\n",
      "Training set accuracy: 0.9405833333333333\n",
      "Testing set accuracy: 0.9388\n",
      "---- 4 epoch----\n",
      "Training set accuracy: 0.9424166666666667\n",
      "Testing set accuracy: 0.9413\n",
      "---- 5 epoch----\n",
      "Training set accuracy: 0.945\n",
      "Testing set accuracy: 0.9434\n",
      "---- 6 epoch----\n",
      "Training set accuracy: 0.94635\n",
      "Testing set accuracy: 0.9443\n",
      "---- 7 epoch----\n",
      "Training set accuracy: 0.9475666666666667\n",
      "Testing set accuracy: 0.946\n",
      "---- 8 epoch----\n",
      "Training set accuracy: 0.9493166666666667\n",
      "Testing set accuracy: 0.9468\n",
      "---- 9 epoch----\n",
      "Training set accuracy: 0.951\n",
      "Testing set accuracy: 0.9489\n",
      "---- 10 epoch----\n",
      "Training set accuracy: 0.9520833333333333\n",
      "Testing set accuracy: 0.9501\n",
      "---- 11 epoch----\n",
      "Training set accuracy: 0.9534666666666667\n",
      "Testing set accuracy: 0.9501\n",
      "---- 12 epoch----\n",
      "Training set accuracy: 0.9552833333333334\n",
      "Testing set accuracy: 0.9532\n",
      "---- 13 epoch----\n",
      "Training set accuracy: 0.956\n",
      "Testing set accuracy: 0.9532\n",
      "---- 14 epoch----\n",
      "Training set accuracy: 0.9575833333333333\n",
      "Testing set accuracy: 0.955\n",
      "---- 15 epoch----\n",
      "Training set accuracy: 0.9587333333333333\n",
      "Testing set accuracy: 0.9558\n",
      "---- 16 epoch----\n",
      "Training set accuracy: 0.9601\n",
      "Testing set accuracy: 0.9573\n"
     ]
    }
   ],
   "source": [
    "# training\n",
    "for i in range(iteration_number):\n",
    "    # mini-batch, using random function to randomly choicing data\n",
    "    batch_selection = np.random.choice(train_data_size, batch_data_size)\n",
    "    traing_data_batch = train_data[batch_selection]\n",
    "    train_label_batch = train_label[batch_selection]\n",
    "    \n",
    "    # compute gradient\n",
    "    grads = network.gradient(traing_data_batch, train_label_batch)\n",
    "    \n",
    "    # update weights\n",
    "    # New Weights = Weights - learning_rate * Weights gradients\n",
    "    for key in ('W1', 'b1', 'W2', 'b2'):\n",
    "        network.params[key] -= learning_rate * grads[key]\n",
    "        \n",
    "    # record error\n",
    "    error = network.error(traing_data_batch, train_label_batch)\n",
    "    train_error_list.append(error)\n",
    "    \n",
    "    if i % iter_per_epoch == 0:\n",
    "        train_acc = network.accuracy(train_data, train_label)\n",
    "        test_acc = network.accuracy(test_data, test_label)\n",
    "        train_acc_list.append(train_acc)\n",
    "        test_acc_list.append(test_acc)\n",
    "        print(\"---- \" + str(i//iter_per_epoch)[:-2] +\" epoch\" \"----\" )\n",
    "        print(\"Training set accuracy: \" + str(train_acc))\n",
    "        print(\"Testing set accuracy: \" + str(test_acc))"
   ]
  },
  {
   "cell_type": "code",
   "execution_count": 58,
   "metadata": {},
   "outputs": [],
   "source": [
    "from matplotlib import pyplot as plt\n",
    "import seaborn as sns"
   ]
  },
  {
   "cell_type": "code",
   "execution_count": 59,
   "metadata": {},
   "outputs": [],
   "source": [
    "def squareFormat(x):\n",
    "    square = np.array(x)\n",
    "    square.resize(28,28)\n",
    "    return square\n",
    "    \n",
    "def showImg(x,label):\n",
    "    plt.imshow(x, cmap = 'gray')\n",
    "    plt.title('Predicted digit: '+ str(label))\n",
    "    plt.xticks([])\n",
    "    plt.yticks([])"
   ]
  },
  {
   "cell_type": "code",
   "execution_count": 85,
   "metadata": {},
   "outputs": [],
   "source": [
    "y_h = network.predict(test_data)\n",
    "y_h = np.argmax(y_h, axis = 1)\n",
    "y = np.argmax(test_label, axis = 1)"
   ]
  },
  {
   "cell_type": "code",
   "execution_count": 86,
   "metadata": {},
   "outputs": [
    {
     "data": {
      "image/png": "[encoded data removed]",
      "text/plain": [
       "<Figure size 1080x720 with 15 Axes>"
      ]
     },
     "metadata": {},
     "output_type": "display_data"
    }
   ],
   "source": [
    "img = test_data[y_h!=y][0:15]\n",
    "pre = y_h[y_h!=y][0:15]\n",
    "\n",
    "fig = plt.figure(figsize = (15,10))\n",
    "_ = fig.suptitle('First 10 wrong predictions')\n",
    "for i in range(1,16):\n",
    "    plt.subplot(3,5,i)\n",
    "    showImg(squareFormat(img[i-1]), pre[i-1])"
   ]
  },
  {
   "cell_type": "code",
   "execution_count": null,
   "metadata": {},
   "outputs": [],
   "source": []
  },
  {
   "cell_type": "code",
   "execution_count": null,
   "metadata": {},
   "outputs": [],
   "source": []
  }
 ],
 "metadata": {
  "kernelspec": {
   "display_name": "Python 3",
   "language": "python",
   "name": "python3"
  },
  "language_info": {
   "codemirror_mode": {
    "name": "ipython",
    "version": 3
   },
   "file_extension": ".py",
   "mimetype": "text/x-python",
   "name": "python",
   "nbconvert_exporter": "python",
   "pygments_lexer": "ipython3",
   "version": "3.7.1"
  }
 },
 "nbformat": 4,
 "nbformat_minor": 2
}
