{
 "cells": [
  {
   "cell_type": "markdown",
   "metadata": {},
   "source": [
    "## Neural Network and Convolutional Neural Network Practice\n",
    "\n",
    "In step 4, we want to implement computational graph concept into our NN and CNN program. Thus we have to rewrite all operations into layers. It's easier to compute the forward and backward propagation in this way. "
   ]
  },
  {
   "cell_type": "code",
   "execution_count": 1,
   "metadata": {},
   "outputs": [],
   "source": [
    "import numpy as np"
   ]
  },
  {
   "cell_type": "markdown",
   "metadata": {},
   "source": [
    "### Helper functions"
   ]
  },
  {
   "cell_type": "code",
   "execution_count": 2,
   "metadata": {},
   "outputs": [],
   "source": [
    "def softmax(x):\n",
    "    if x.ndim == 2:\n",
    "        x = x.T # convert x_i from row to column\n",
    "        x = x - np.max(x, axis = 0) # axis = 0: vertical \n",
    "        y = np.exp(x) / np.sum(np.exp(x), axis = 0)\n",
    "        return y.T # transpose back to original format\n",
    "\n",
    "    x = x - np.max(x)\n",
    "    return np.exp(x) / np.sum(np.exp(x))\n",
    "\n",
    "# input type is one-hot-encoding label\n",
    "def cross_entropy_error(y, t):\n",
    "    delta = 1e-7\n",
    "    if y.ndim == 1:\n",
    "        t = t.reshape(1, t.size)\n",
    "        y = y.reshape(1, y.size)\n",
    "    \n",
    "    batch_size = y.shape[0]\n",
    "    return -np.sum(t * np.log(y+delta)) / batch_size"
   ]
  },
  {
   "cell_type": "markdown",
   "metadata": {},
   "source": [
    "### Computational Graph Style Layers\n",
    "\n",
    "Practice computational graph style layer design. Implement Addition and Multiplication operations."
   ]
  },
  {
   "cell_type": "code",
   "execution_count": 3,
   "metadata": {},
   "outputs": [],
   "source": [
    "# forward: x + y = z\n",
    "# backward: df/dx = df/dz * dz/dx\n",
    "# dz/dx = 1\n",
    "class AddLayer():\n",
    "    def __init__(self):\n",
    "        pass\n",
    "    def forward(self, x, y):\n",
    "        return x + y\n",
    "    def backward(self, dfdz):\n",
    "        return dfdz*1, dfdz*1"
   ]
  },
  {
   "cell_type": "code",
   "execution_count": 4,
   "metadata": {},
   "outputs": [],
   "source": [
    "# forward: x * y = z\n",
    "# backward: df/dx = df/dz * dz/dx\n",
    "# dz/dx = y\n",
    "class MulLayer():\n",
    "    def __init__(self):\n",
    "        self.x = self.y = None\n",
    "    def forward(self, x, y):\n",
    "        self.x, self.y = x, y\n",
    "        return x * y\n",
    "    def backward(self, dfdz):\n",
    "        return dfdz * self.y, dfdz * self.x"
   ]
  },
  {
   "cell_type": "markdown",
   "metadata": {},
   "source": [
    "### Test Addition and Multiplication Layers\n",
    "\n",
    "Test case using following equation: $f(x_i,y_i,r) = (x_1*y_1+x_2*y_2)*r$\n",
    "First compute the forward value $(x_1*y_1+x_2*y_2)*r$\n",
    "Second compute the backward value $df/dr = (x_1*y_1+x_2*y_2)$ and $df/d(x_1y_1+x_2y_2) = r$"
   ]
  },
  {
   "cell_type": "code",
   "execution_count": 5,
   "metadata": {},
   "outputs": [
    {
     "name": "stdout",
     "output_type": "stream",
     "text": [
      "Forward check: \n",
      "( x1*y1 + x2*y2 ) * r =715.0000000000001\n",
      "\n",
      "Backward check: \n",
      "x1*y1 + x2*y2 = 650\n",
      "r = 1.1\n",
      "df/dr =650\n",
      "df/dxy = 1.1\n"
     ]
    }
   ],
   "source": [
    "# initiate values\n",
    "x1, y1, x2, y2, r = 100, 2, 150, 3, 1.1\n",
    "\n",
    "# compute forward, ie f = ( x1*y1 + x2*y2 ) * r\n",
    "# initiate layers according to corresponding computation graph\n",
    "x1y1_layer = x2y2_layer = xyr_layer = MulLayer()\n",
    "x1y1_x2y2_layer = AddLayer()\n",
    "\n",
    "# computate forward\n",
    "x1y1 = x1y1_layer.forward(x1,y1)\n",
    "x2y2 = x2y2_layer.forward(x2,y2)\n",
    "x1y1_x2y2 = x1y1_x2y2_layer.forward(x1y1,x2y2)\n",
    "xyr = xyr_layer.forward(x1y1_x2y2, r)\n",
    "\n",
    "print('Forward check: ')\n",
    "print('( x1*y1 + x2*y2 ) * r =' + str(xyr))\n",
    "print('')\n",
    "\n",
    "# compute backward\n",
    "df = 1\n",
    "dall, dfdr = xyr_layer.backward(df)\n",
    "dx1y1, dx2y2 = x1y1_x2y2_layer.backward(dall)\n",
    "dx1, dy1 = x1y1_layer.backward(dx1y1)\n",
    "dx2, dy2 = x2y2_layer.backward(dx2y2)\n",
    "\n",
    "print('Backward check: ')\n",
    "print('x1*y1 + x2*y2 = ' + str(x1y1_x2y2))\n",
    "print('r = ' + str(r))\n",
    "print('df/dr =' + str(dfdr))\n",
    "print('df/dxy = ' + str(dall))"
   ]
  },
  {
   "cell_type": "markdown",
   "metadata": {},
   "source": [
    "### Relu and Sigmoid Layer"
   ]
  },
  {
   "cell_type": "code",
   "execution_count": 6,
   "metadata": {},
   "outputs": [],
   "source": [
    "# forward: z = x if x > 0, 0 if x <= 0\n",
    "# backward: df/dx = df/dz * dz/dx, \n",
    "# dz/dx = 1 if x > 0, 0 if x <= 0\n",
    "class Relu():\n",
    "    def __init__(self):\n",
    "        self.mask = None\n",
    "    def forward(self, x):\n",
    "        self.mask = (x <= 0)\n",
    "        out = x.copy()\n",
    "        out[self.mask] = 0\n",
    "        return out\n",
    "    def backward(self, dfdz):\n",
    "        out = dfdz.copy()\n",
    "        out[self.mask] = 0\n",
    "        return out"
   ]
  },
  {
   "cell_type": "code",
   "execution_count": 7,
   "metadata": {},
   "outputs": [],
   "source": [
    "# forward: z = 1 / (1 + exp(-x) ) \n",
    "# backward: \n",
    "# dz/dx = z^2 * exp(-x) = 1/(1+exp(-x))^2 * exp(-x) \n",
    "#       = 1/(1+exp(-x)) * exp(-x)/(1+exp(-x)) \n",
    "#       = z * (1-z)\n",
    "class Sigmoid():\n",
    "    def __init__(self):\n",
    "        self.out = None\n",
    "    def forward(self, x):\n",
    "        self.out = 1 / (1 + np.exp(-x))\n",
    "        return self.out\n",
    "    def backward(self, dfdz):\n",
    "        return dfdz * (1- self.out) * self.out"
   ]
  },
  {
   "cell_type": "markdown",
   "metadata": {},
   "source": [
    "### Affine Layer\n",
    "\n",
    "On step 3-1, we propagated values between layers using matrix operation: $ X\\cdot W + B = Y$. We can rewrite these operations in layer style we just did above. This layer usually called Affine Layer in Neural Netwrok."
   ]
  },
  {
   "cell_type": "code",
   "execution_count": 8,
   "metadata": {},
   "outputs": [],
   "source": [
    "class Affine():\n",
    "    def __init__(self, W, b):\n",
    "        self.W, self.b = W, b\n",
    "        self.x = self.dW = self.db = None\n",
    "    \n",
    "    def forward(self,x):\n",
    "        self.x = x\n",
    "        return np.dot(self.x, self.W) + self.b\n",
    "    \n",
    "    def backward(self,dfdy):\n",
    "        dx = np.dot(dfdy, self.W.T)\n",
    "        self.dW = np.dot(self.x.T, dfdy)\n",
    "        self.db = np.sum(dfdy, axis = 0)\n",
    "        return dx"
   ]
  },
  {
   "cell_type": "code",
   "execution_count": 9,
   "metadata": {},
   "outputs": [],
   "source": [
    "class SoftmaxWithError():\n",
    "    def __init__(self):\n",
    "        self.error = None\n",
    "        self.y_h = None\n",
    "        self.y = None\n",
    "    \n",
    "    def forward(self, x, y):\n",
    "        self.y = y\n",
    "        self.y_h = softmax(x)\n",
    "        self.error = cross_entropy_error(self.y_h, self.y)\n",
    "        return self.error\n",
    "    \n",
    "    def backward(self):\n",
    "        batch_data_size = self.y.shape[0]\n",
    "        dx = (self.y_h - self.y) / batch_data_size\n",
    "        return dx"
   ]
  },
  {
   "cell_type": "markdown",
   "metadata": {},
   "source": [
    "### Rewrite Two Layer Network Using Affine Layer"
   ]
  },
  {
   "cell_type": "code",
   "execution_count": 10,
   "metadata": {},
   "outputs": [],
   "source": [
    "# use ordered dictionary to store weights and bias in order\n",
    "# eaiser to call when doing forward and backward propagation\n",
    "from collections import OrderedDict"
   ]
  },
  {
   "cell_type": "code",
   "execution_count": 11,
   "metadata": {},
   "outputs": [],
   "source": [
    "class TwoLayerNet:\n",
    "    def __init__(self, input_size, hidden_size, output_size, weight_init_std = 0.01):\n",
    "        self.params = {}\n",
    "        \n",
    "        # 1st layer size: from input to cell size\n",
    "        self.params['W1'] = weight_init_std * np.random.randn(input_size, hidden_size)\n",
    "        self.params['b1'] = np.zeros(hidden_size)\n",
    "        \n",
    "        # 2nd layer size: from cell size to output size\n",
    "        self.params['W2'] = weight_init_std * np.random.randn(hidden_size, output_size)\n",
    "        self.params['b2'] = np.zeros(output_size)\n",
    "        \n",
    "        # generate layersz\n",
    "        # input -> Affine Later 1 with W1 b1 \n",
    "        #       -> Relu Layer 1 \n",
    "        #       -> Affine Layer 2 with W2 b2\n",
    "        #       \n",
    "        # if we need more layers, we can add here\n",
    "        #       -> Relu layer 2\n",
    "        #       -> Affine Layer n with Wn bn\n",
    "        #       -> Relu Layer n \n",
    "        #\n",
    "        #       -> results here is evaluation scores\n",
    "        #       -> Apply Softmax layer only if we want fianl prediction, not in training stage?\n",
    "        self.layers = OrderedDict()\n",
    "        self.layers['Affine_layer_1'] = Affine(self.params['W1'], self.params['b1'])\n",
    "        self.layers['Relu_layer_1' ] = Relu()\n",
    "        self.layers['Affine_layer_2'] = Affine(self.params['W2'], self.params['b2'])\n",
    "        self.last_layer = SoftmaxWithError()\n",
    "        \n",
    "    def predict(self, x):\n",
    "        for layer in self.layers.values():\n",
    "            x = layer.forward(x)\n",
    "        return x\n",
    "    \n",
    "    def error(self, x, y):\n",
    "        y_h = self.predict(x)\n",
    "        return self.last_layer.forward(y_h, y)\n",
    "    \n",
    "    def accuracy(self, x, y):\n",
    "        y_h = self.predict(x)\n",
    "        # convert one-hat-encode to one value\n",
    "        y_h , y = np.argmax(y_h, axis = 1), np.argmax(y, axis = 1) \n",
    "        return np.sum(y_h == y)/float(x.shape[0])\n",
    "    \n",
    "    def gradient(self, x, y):\n",
    "        # apply forward propagation to get error\n",
    "        self.error(x, y)\n",
    "        \n",
    "        # then apply backward prapagation to get gradients\n",
    "        # last layer backward propagate dout\n",
    "        dout = self.last_layer.backward()\n",
    "        \n",
    "        # call layers in backward order\n",
    "        layers = list(self.layers.values())\n",
    "        layers.reverse()\n",
    "        for layer in layers:\n",
    "            dout = layer.backward(dout)\n",
    "        \n",
    "        grads = {}\n",
    "        grads['W1'], grads['b1'] = self.layers['Affine_layer_1'].dW, self.layers['Affine_layer_1'].db\n",
    "        grads['W2'], grads['b2'] = self.layers['Affine_layer_2'].dW, self.layers['Affine_layer_2'].db\n",
    "        \n",
    "        return grads"
   ]
  },
  {
   "cell_type": "markdown",
   "metadata": {},
   "source": [
    "### Apply 2 layers model to train and test MNIST data"
   ]
  },
  {
   "cell_type": "code",
   "execution_count": 12,
   "metadata": {},
   "outputs": [],
   "source": [
    "import os\n",
    "from mnist import MNIST\n",
    "mnidata = MNIST(os.getcwd()+'/Data')\n",
    "train_img, train_lab = mnidata.load_training()\n",
    "test_img, test_lab = mnidata.load_testing()"
   ]
  },
  {
   "cell_type": "code",
   "execution_count": 13,
   "metadata": {},
   "outputs": [],
   "source": [
    "# convert python list to to numpy array\n",
    "train_data, train_label = np.array(train_img), np.array(train_lab)\n",
    "test_data, test_label = np.array(test_img), np.array(test_lab)\n",
    "\n",
    "# normalize image\n",
    "train_data, test_data = train_data.astype(np.float32), test_data.astype(np.float32)\n",
    "train_data /= 255.0\n",
    "test_data /= 255.0\n",
    "\n",
    "# convert label to one hot encoding\n",
    "def one_hot_encoding(labels, num_of_classes):\n",
    "    res = np.eye(num_of_classes)[np.array(labels).reshape(-1)]\n",
    "    return res.reshape(list(labels.shape)+[num_of_classes])\n",
    "\n",
    "train_label, test_label = one_hot_encoding(train_label, 10), one_hot_encoding(test_label, 10)"
   ]
  },
  {
   "cell_type": "code",
   "execution_count": 14,
   "metadata": {},
   "outputs": [],
   "source": [
    "# initiate two layer neural network\n",
    "network = TwoLayerNet(input_size=784, hidden_size=50, output_size=10)"
   ]
  },
  {
   "cell_type": "code",
   "execution_count": 15,
   "metadata": {},
   "outputs": [],
   "source": [
    "# parameters\n",
    "iteration_number = 10000\n",
    "train_data_size = train_data.shape[0]\n",
    "batch_data_size = 100\n",
    "learning_rate = 0.1\n",
    "\n",
    "train_error_list = []\n",
    "train_acc_list = []\n",
    "test_acc_list = []\n",
    "\n",
    "iter_per_epoch = train_data_size/batch_data_size"
   ]
  },
  {
   "cell_type": "code",
   "execution_count": 16,
   "metadata": {},
   "outputs": [
    {
     "name": "stdout",
     "output_type": "stream",
     "text": [
      "---- 0 epoch----\n",
      "Training set accuracy: 0.0906\n",
      "Testing set accuracy: 0.0894\n",
      "---- 1 epoch----\n",
      "Training set accuracy: 0.9023833333333333\n",
      "Testing set accuracy: 0.908\n",
      "---- 2 epoch----\n",
      "Training set accuracy: 0.9239666666666667\n",
      "Testing set accuracy: 0.9242\n",
      "---- 3 epoch----\n",
      "Training set accuracy: 0.9331833333333334\n",
      "Testing set accuracy: 0.9319\n",
      "---- 4 epoch----\n",
      "Training set accuracy: 0.9446833333333333\n",
      "Testing set accuracy: 0.9417\n",
      "---- 5 epoch----\n",
      "Training set accuracy: 0.9515333333333333\n",
      "Testing set accuracy: 0.9483\n",
      "---- 6 epoch----\n",
      "Training set accuracy: 0.9553666666666667\n",
      "Testing set accuracy: 0.9516\n",
      "---- 7 epoch----\n",
      "Training set accuracy: 0.9589833333333333\n",
      "Testing set accuracy: 0.9556\n",
      "---- 8 epoch----\n",
      "Training set accuracy: 0.9624333333333334\n",
      "Testing set accuracy: 0.9575\n",
      "---- 9 epoch----\n",
      "Training set accuracy: 0.9656833333333333\n",
      "Testing set accuracy: 0.96\n",
      "---- 10 epoch----\n",
      "Training set accuracy: 0.9682833333333334\n",
      "Testing set accuracy: 0.961\n",
      "---- 11 epoch----\n",
      "Training set accuracy: 0.9691666666666666\n",
      "Testing set accuracy: 0.9631\n",
      "---- 12 epoch----\n",
      "Training set accuracy: 0.97215\n",
      "Testing set accuracy: 0.9663\n",
      "---- 13 epoch----\n",
      "Training set accuracy: 0.9740833333333333\n",
      "Testing set accuracy: 0.9676\n",
      "---- 14 epoch----\n",
      "Training set accuracy: 0.9759833333333333\n",
      "Testing set accuracy: 0.9666\n",
      "---- 15 epoch----\n",
      "Training set accuracy: 0.9761666666666666\n",
      "Testing set accuracy: 0.9683\n",
      "---- 16 epoch----\n",
      "Training set accuracy: 0.9779333333333333\n",
      "Testing set accuracy: 0.9701\n"
     ]
    }
   ],
   "source": [
    "# training\n",
    "for i in range(iteration_number):\n",
    "    # mini-batch, using random function to randomly choicing data\n",
    "    batch_selection = np.random.choice(train_data_size, batch_data_size)\n",
    "    traing_data_batch = train_data[batch_selection]\n",
    "    train_label_batch = train_label[batch_selection]\n",
    "    \n",
    "    # compute gradient\n",
    "    grads = network.gradient(traing_data_batch, train_label_batch)\n",
    "    \n",
    "    # update weights\n",
    "    # New Weights = Weights - learning_rate * Weights gradients\n",
    "    for key in ('W1', 'b1', 'W2', 'b2'):\n",
    "        network.params[key] -= learning_rate * grads[key]\n",
    "        \n",
    "    # record error\n",
    "    error = network.error(traing_data_batch, train_label_batch)\n",
    "    train_error_list.append(error)\n",
    "    \n",
    "    if i % iter_per_epoch == 0:\n",
    "        train_acc = network.accuracy(train_data, train_label)\n",
    "        test_acc = network.accuracy(test_data, test_label)\n",
    "        train_acc_list.append(train_acc)\n",
    "        test_acc_list.append(test_acc)\n",
    "        print(\"---- \" + str(i//iter_per_epoch)[:-2] +\" epoch\" \"----\" )\n",
    "        print(\"Training set accuracy: \" + str(train_acc))\n",
    "        print(\"Testing set accuracy: \" + str(test_acc))"
   ]
  },
  {
   "cell_type": "markdown",
   "metadata": {},
   "source": [
    "### Plotting Results"
   ]
  },
  {
   "cell_type": "code",
   "execution_count": 17,
   "metadata": {},
   "outputs": [],
   "source": [
    "from matplotlib import pyplot as plt"
   ]
  },
  {
   "cell_type": "code",
   "execution_count": 18,
   "metadata": {},
   "outputs": [
    {
     "data": {
      "text/plain": [
       "Text(0.5, 1.0, 'Training Error')"
      ]
     },
     "execution_count": 18,
     "metadata": {},
     "output_type": "execute_result"
    },
    {
     "data": {
      "image/png": "[encoded data removed]",
      "text/plain": [
       "<Figure size 432x288 with 1 Axes>"
      ]
     },
     "metadata": {
      "needs_background": "light"
     },
     "output_type": "display_data"
    }
   ],
   "source": [
    "_ = plt.plot(train_error_list)\n",
    "plt.title('Training Error')"
   ]
  },
  {
   "cell_type": "code",
   "execution_count": 19,
   "metadata": {},
   "outputs": [
    {
     "data": {
      "image/png": "[encoded data removed]",
      "text/plain": [
       "<Figure size 432x288 with 1 Axes>"
      ]
     },
     "metadata": {
      "needs_background": "light"
     },
     "output_type": "display_data"
    }
   ],
   "source": [
    "_ = plt.plot(train_acc_list)\n",
    "_ = plt.plot(test_acc_list)\n",
    "_ = plt.legend(['Training','Testing'])\n",
    "_ = plt.title('Accuracy')\n",
    "_ = plt.xlabel('Number of epoch')"
   ]
  },
  {
   "cell_type": "code",
   "execution_count": 20,
   "metadata": {},
   "outputs": [],
   "source": [
    "def squareFormat(x):\n",
    "    square = np.array(x)\n",
    "    square.resize(28,28)\n",
    "    return square\n",
    "    \n",
    "def showImg(x,label):\n",
    "    plt.imshow(x, cmap = 'gray')\n",
    "    plt.title('Predicted digit: '+ str(label))\n",
    "    plt.xticks([])\n",
    "    plt.yticks([])"
   ]
  },
  {
   "cell_type": "code",
   "execution_count": 21,
   "metadata": {},
   "outputs": [],
   "source": [
    "y_h = network.predict(test_data)\n",
    "y_h = np.argmax(y_h, axis = 1)\n",
    "y = np.argmax(test_label, axis = 1)"
   ]
  },
  {
   "cell_type": "code",
   "execution_count": 22,
   "metadata": {},
   "outputs": [
    {
     "data": {
      "image/png": "[encoded data removed]",
      "text/plain": [
       "<Figure size 1080x720 with 15 Axes>"
      ]
     },
     "metadata": {},
     "output_type": "display_data"
    }
   ],
   "source": [
    "img = test_data[y_h!=y][0:15]\n",
    "pre = y_h[y_h!=y][0:15]\n",
    "\n",
    "fig = plt.figure(figsize = (15,10))\n",
    "_ = fig.suptitle('First 10 wrong predictions')\n",
    "for i in range(1,16):\n",
    "    plt.subplot(3,5,i)\n",
    "    showImg(squareFormat(img[i-1]), pre[i-1])"
   ]
  },
  {
   "cell_type": "code",
   "execution_count": null,
   "metadata": {},
   "outputs": [],
   "source": []
  }
 ],
 "metadata": {
  "kernelspec": {
   "display_name": "Python 3",
   "language": "python",
   "name": "python3"
  },
  "language_info": {
   "codemirror_mode": {
    "name": "ipython",
    "version": 3
   },
   "file_extension": ".py",
   "mimetype": "text/x-python",
   "name": "python",
   "nbconvert_exporter": "python",
   "pygments_lexer": "ipython3",
   "version": "3.7.1"
  }
 },
 "nbformat": 4,
 "nbformat_minor": 2
}
